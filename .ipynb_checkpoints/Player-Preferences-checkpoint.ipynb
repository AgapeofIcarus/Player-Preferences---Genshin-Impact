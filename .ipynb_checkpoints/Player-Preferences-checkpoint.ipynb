{
 "cells": [
  {
   "cell_type": "code",
   "execution_count": 2,
   "metadata": {
    "collapsed": true,
    "deletable": true,
    "editable": true
   },
   "outputs": [],
   "source": [
    "import pandas as pd\n",
    "import numpy as np\n",
    "import matplotlib.pyplot as plt\n",
    "import os\n",
    "import csv"
   ]
  },
  {
   "cell_type": "code",
   "execution_count": 3,
   "metadata": {
    "collapsed": false,
    "deletable": true,
    "editable": true
   },
   "outputs": [
    {
     "data": {
      "text/html": [
       "<div>\n",
       "<style scoped>\n",
       "    .dataframe tbody tr th:only-of-type {\n",
       "        vertical-align: middle;\n",
       "    }\n",
       "\n",
       "    .dataframe tbody tr th {\n",
       "        vertical-align: top;\n",
       "    }\n",
       "\n",
       "    .dataframe thead th {\n",
       "        text-align: right;\n",
       "    }\n",
       "</style>\n",
       "<table border=\"1\" class=\"dataframe\">\n",
       "  <thead>\n",
       "    <tr style=\"text-align: right;\">\n",
       "      <th></th>\n",
       "      <th>Answer ID</th>\n",
       "      <th>Gender</th>\n",
       "      <th>Age</th>\n",
       "      <th>Server</th>\n",
       "      <th>Why Play?</th>\n",
       "      <th>Average Spent</th>\n",
       "      <th>Favorite Region</th>\n",
       "      <th>Main Character</th>\n",
       "    </tr>\n",
       "  </thead>\n",
       "  <tbody>\n",
       "    <tr>\n",
       "      <th>0</th>\n",
       "      <td>1</td>\n",
       "      <td>Male</td>\n",
       "      <td>25-34</td>\n",
       "      <td>America</td>\n",
       "      <td>Friend Recommended</td>\n",
       "      <td>$5 - $15</td>\n",
       "      <td>Liyue</td>\n",
       "      <td>Klee</td>\n",
       "    </tr>\n",
       "    <tr>\n",
       "      <th>1</th>\n",
       "      <td>2</td>\n",
       "      <td>Female</td>\n",
       "      <td>18-24</td>\n",
       "      <td>Europe</td>\n",
       "      <td>Friend Recommended</td>\n",
       "      <td>$0</td>\n",
       "      <td>Liyue</td>\n",
       "      <td>Bennett</td>\n",
       "    </tr>\n",
       "    <tr>\n",
       "      <th>2</th>\n",
       "      <td>3</td>\n",
       "      <td>Female</td>\n",
       "      <td>Under 18</td>\n",
       "      <td>America</td>\n",
       "      <td>Friend Recommended</td>\n",
       "      <td>$0</td>\n",
       "      <td>Liyue</td>\n",
       "      <td>Xinqiu</td>\n",
       "    </tr>\n",
       "    <tr>\n",
       "      <th>3</th>\n",
       "      <td>4</td>\n",
       "      <td>Female</td>\n",
       "      <td>25-34</td>\n",
       "      <td>Europe</td>\n",
       "      <td>Liked a Character Design</td>\n",
       "      <td>$5 - $15</td>\n",
       "      <td>Liyue</td>\n",
       "      <td>Razor</td>\n",
       "    </tr>\n",
       "    <tr>\n",
       "      <th>4</th>\n",
       "      <td>5</td>\n",
       "      <td>Female</td>\n",
       "      <td>18-24</td>\n",
       "      <td>Europe</td>\n",
       "      <td>Friend Recommended</td>\n",
       "      <td>$4.99</td>\n",
       "      <td>Liyue</td>\n",
       "      <td>Ganyu</td>\n",
       "    </tr>\n",
       "  </tbody>\n",
       "</table>\n",
       "</div>"
      ],
      "text/plain": [
       "   Answer ID  Gender       Age   Server                 Why Play?  \\\n",
       "0          1    Male     25-34  America        Friend Recommended   \n",
       "1          2  Female     18-24   Europe        Friend Recommended   \n",
       "2          3  Female  Under 18  America        Friend Recommended   \n",
       "3          4  Female     25-34   Europe  Liked a Character Design   \n",
       "4          5  Female     18-24   Europe        Friend Recommended   \n",
       "\n",
       "  Average Spent Favorite Region Main Character  \n",
       "0      $5 - $15           Liyue           Klee  \n",
       "1           $0            Liyue        Bennett  \n",
       "2           $0            Liyue         Xinqiu  \n",
       "3      $5 - $15           Liyue          Razor  \n",
       "4        $4.99            Liyue          Ganyu  "
      ]
     },
     "execution_count": 3,
     "metadata": {},
     "output_type": "execute_result"
    }
   ],
   "source": [
    "#Read in datafile to generate dataframe\n",
    "datafile = os.path.join(\"GenshinPlayerData.csv\")\n",
    "player_data = pd.read_csv(datafile, delimiter=\",\")\n",
    "\n",
    "player_data.head()"
   ]
  },
  {
   "cell_type": "code",
   "execution_count": 4,
   "metadata": {
    "collapsed": false,
    "deletable": true,
    "editable": true
   },
   "outputs": [
    {
     "data": {
      "text/plain": [
       "Answer ID          42\n",
       "Gender             42\n",
       "Age                42\n",
       "Server             42\n",
       "Why Play?          42\n",
       "Average Spent      42\n",
       "Favorite Region    42\n",
       "Main Character     42\n",
       "dtype: int64"
      ]
     },
     "execution_count": 4,
     "metadata": {},
     "output_type": "execute_result"
    }
   ],
   "source": [
    "#Check data for missing values\n",
    "player_data.count()\n",
    "\n",
    "#remove lines with missing data and do a count to verify they were dropped\n",
    "player_data = player_data.dropna(how='any')\n",
    "player_data.count()"
   ]
  },
  {
   "cell_type": "code",
   "execution_count": 5,
   "metadata": {
    "collapsed": false,
    "deletable": true,
    "editable": true
   },
   "outputs": [
    {
     "data": {
      "text/html": [
       "<div>\n",
       "<style scoped>\n",
       "    .dataframe tbody tr th:only-of-type {\n",
       "        vertical-align: middle;\n",
       "    }\n",
       "\n",
       "    .dataframe tbody tr th {\n",
       "        vertical-align: top;\n",
       "    }\n",
       "\n",
       "    .dataframe thead th {\n",
       "        text-align: right;\n",
       "    }\n",
       "</style>\n",
       "<table border=\"1\" class=\"dataframe\">\n",
       "  <thead>\n",
       "    <tr style=\"text-align: right;\">\n",
       "      <th></th>\n",
       "      <th>Gender</th>\n",
       "      <th>Age</th>\n",
       "      <th>Server</th>\n",
       "      <th>Why Play?</th>\n",
       "      <th>Average Spent</th>\n",
       "      <th>Favorite Region</th>\n",
       "      <th>Main Character</th>\n",
       "    </tr>\n",
       "  </thead>\n",
       "  <tbody>\n",
       "    <tr>\n",
       "      <th>0</th>\n",
       "      <td>Male</td>\n",
       "      <td>25-34</td>\n",
       "      <td>America</td>\n",
       "      <td>Friend Recommended</td>\n",
       "      <td>$5 - $15</td>\n",
       "      <td>Liyue</td>\n",
       "      <td>Klee</td>\n",
       "    </tr>\n",
       "    <tr>\n",
       "      <th>1</th>\n",
       "      <td>Female</td>\n",
       "      <td>18-24</td>\n",
       "      <td>Europe</td>\n",
       "      <td>Friend Recommended</td>\n",
       "      <td>$0</td>\n",
       "      <td>Liyue</td>\n",
       "      <td>Bennett</td>\n",
       "    </tr>\n",
       "    <tr>\n",
       "      <th>2</th>\n",
       "      <td>Female</td>\n",
       "      <td>Under 18</td>\n",
       "      <td>America</td>\n",
       "      <td>Friend Recommended</td>\n",
       "      <td>$0</td>\n",
       "      <td>Liyue</td>\n",
       "      <td>Xinqiu</td>\n",
       "    </tr>\n",
       "    <tr>\n",
       "      <th>3</th>\n",
       "      <td>Female</td>\n",
       "      <td>25-34</td>\n",
       "      <td>Europe</td>\n",
       "      <td>Liked a Character Design</td>\n",
       "      <td>$5 - $15</td>\n",
       "      <td>Liyue</td>\n",
       "      <td>Razor</td>\n",
       "    </tr>\n",
       "    <tr>\n",
       "      <th>4</th>\n",
       "      <td>Female</td>\n",
       "      <td>18-24</td>\n",
       "      <td>Europe</td>\n",
       "      <td>Friend Recommended</td>\n",
       "      <td>$4.99</td>\n",
       "      <td>Liyue</td>\n",
       "      <td>Ganyu</td>\n",
       "    </tr>\n",
       "  </tbody>\n",
       "</table>\n",
       "</div>"
      ],
      "text/plain": [
       "   Gender       Age   Server                 Why Play? Average Spent  \\\n",
       "0    Male     25-34  America        Friend Recommended      $5 - $15   \n",
       "1  Female     18-24   Europe        Friend Recommended           $0    \n",
       "2  Female  Under 18  America        Friend Recommended           $0    \n",
       "3  Female     25-34   Europe  Liked a Character Design      $5 - $15   \n",
       "4  Female     18-24   Europe        Friend Recommended        $4.99    \n",
       "\n",
       "  Favorite Region Main Character  \n",
       "0           Liyue           Klee  \n",
       "1           Liyue        Bennett  \n",
       "2           Liyue         Xinqiu  \n",
       "3           Liyue          Razor  \n",
       "4           Liyue          Ganyu  "
      ]
     },
     "execution_count": 5,
     "metadata": {},
     "output_type": "execute_result"
    }
   ],
   "source": [
    "#remove answer id column for cleaner look\n",
    "del player_data['Answer ID']\n",
    "player_data.head()"
   ]
  },
  {
   "cell_type": "code",
   "execution_count": 10,
   "metadata": {
    "collapsed": false,
    "deletable": true,
    "editable": true
   },
   "outputs": [
    {
     "data": {
      "text/plain": [
       "([<matplotlib.patches.Wedge at 0x27c03e15748>,\n",
       "  <matplotlib.patches.Wedge at 0x27c03e221d0>,\n",
       "  <matplotlib.patches.Wedge at 0x27c03e22be0>],\n",
       " [Text(-0.50183164453357, -0.9788590299653638, 'Female'),\n",
       "  Text(0.6421178761981436, 0.8931319236634562, 'Other'),\n",
       "  Text(-0.7278545928022948, 0.8247591719627043, 'Male')],\n",
       " [Text(-0.2737263515637654, -0.5339231072538347, '57.1%'),\n",
       "  Text(0.3502461142898965, 0.48716286745279425, '38.1%'),\n",
       "  Text(-0.39701159607397896, 0.44986863925238413, '4.8%')])"
      ]
     },
     "execution_count": 10,
     "metadata": {},
     "output_type": "execute_result"
    },
    {
     "data": {
      "image/png": "[encoded data removed]",
      "text/plain": [
       "<Figure size 432x288 with 1 Axes>"
      ]
     },
     "metadata": {},
     "output_type": "display_data"
    }
   ],
   "source": [
    "#create call name for gender from value counts function\n",
    "gender= player_data[\"Gender\"].value_counts()\n",
    "gender\n",
    "\n",
    "#create pie chart displaying gender percentiles\n",
    "labels = [\"Female\", \"Other\", \"Male\"]\n",
    "colors = [\"khaki\", \"mediumaquamarine\", \"lavender\"]\n",
    "plt.pie(gender, labels=labels, colors=colors,\n",
    "        autopct=\"%1.1f%%\", shadow=True, startangle=140)"
   ]
  },
  {
   "cell_type": "code",
   "execution_count": null,
   "metadata": {
    "collapsed": true
   },
   "outputs": [],
   "source": []
  }
 ],
 "metadata": {
  "kernelspec": {
   "display_name": "PythonData",
   "language": "python",
   "name": "pythondata"
  },
  "language_info": {
   "codemirror_mode": {
    "name": "ipython",
    "version": 3
   },
   "file_extension": ".py",
   "mimetype": "text/x-python",
   "name": "python",
   "nbconvert_exporter": "python",
   "pygments_lexer": "ipython3",
   "version": "3.6.10"
  }
 },
 "nbformat": 4,
 "nbformat_minor": 4
}
